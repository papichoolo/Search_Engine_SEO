{
 "cells": [
  {
   "cell_type": "code",
   "execution_count": 1,
   "metadata": {},
   "outputs": [
    {
     "data": {
      "text/html": [
       "<div>\n",
       "<style scoped>\n",
       "    .dataframe tbody tr th:only-of-type {\n",
       "        vertical-align: middle;\n",
       "    }\n",
       "\n",
       "    .dataframe tbody tr th {\n",
       "        vertical-align: top;\n",
       "    }\n",
       "\n",
       "    .dataframe thead th {\n",
       "        text-align: right;\n",
       "    }\n",
       "</style>\n",
       "<table border=\"1\" class=\"dataframe\">\n",
       "  <thead>\n",
       "    <tr style=\"text-align: right;\">\n",
       "      <th></th>\n",
       "      <th>PMID</th>\n",
       "      <th>Title</th>\n",
       "      <th>Abstract</th>\n",
       "      <th>Link-pubmed</th>\n",
       "    </tr>\n",
       "  </thead>\n",
       "  <tbody>\n",
       "    <tr>\n",
       "      <th>0</th>\n",
       "      <td>32361569</td>\n",
       "      <td>Breast cancer: Biology, biomarkers, and treatm...</td>\n",
       "      <td>During the past recent years, various therapie...</td>\n",
       "      <td>https://pubmed.ncbi.nlm.nih.gov/32361569/</td>\n",
       "    </tr>\n",
       "    <tr>\n",
       "      <th>1</th>\n",
       "      <td>27865536</td>\n",
       "      <td>Breast cancer</td>\n",
       "      <td>Breast cancer is one of the three most common ...</td>\n",
       "      <td>https://pubmed.ncbi.nlm.nih.gov/27865536/</td>\n",
       "    </tr>\n",
       "    <tr>\n",
       "      <th>2</th>\n",
       "      <td>35243878</td>\n",
       "      <td>Breast cancer: presentation, investigation and...</td>\n",
       "      <td>Breast cancer is the most common global malign...</td>\n",
       "      <td>https://pubmed.ncbi.nlm.nih.gov/35243878/</td>\n",
       "    </tr>\n",
       "    <tr>\n",
       "      <th>3</th>\n",
       "      <td>29471575</td>\n",
       "      <td>[Breast Cancer: Diagnostics and Therapy - the ...</td>\n",
       "      <td>Learning objectives: After reviewing this arti...</td>\n",
       "      <td>https://pubmed.ncbi.nlm.nih.gov/29471575/</td>\n",
       "    </tr>\n",
       "    <tr>\n",
       "      <th>4</th>\n",
       "      <td>27009935</td>\n",
       "      <td>Benign and Malignant Breast Disease at Rwanda'...</td>\n",
       "      <td>Background: Breast cancer incidence is rising ...</td>\n",
       "      <td>https://pubmed.ncbi.nlm.nih.gov/27009935/</td>\n",
       "    </tr>\n",
       "  </tbody>\n",
       "</table>\n",
       "</div>"
      ],
      "text/plain": [
       "       PMID                                              Title  \\\n",
       "0  32361569  Breast cancer: Biology, biomarkers, and treatm...   \n",
       "1  27865536                                      Breast cancer   \n",
       "2  35243878  Breast cancer: presentation, investigation and...   \n",
       "3  29471575  [Breast Cancer: Diagnostics and Therapy - the ...   \n",
       "4  27009935  Benign and Malignant Breast Disease at Rwanda'...   \n",
       "\n",
       "                                            Abstract  \\\n",
       "0  During the past recent years, various therapie...   \n",
       "1  Breast cancer is one of the three most common ...   \n",
       "2  Breast cancer is the most common global malign...   \n",
       "3  Learning objectives: After reviewing this arti...   \n",
       "4  Background: Breast cancer incidence is rising ...   \n",
       "\n",
       "                                 Link-pubmed  \n",
       "0  https://pubmed.ncbi.nlm.nih.gov/32361569/  \n",
       "1  https://pubmed.ncbi.nlm.nih.gov/27865536/  \n",
       "2  https://pubmed.ncbi.nlm.nih.gov/35243878/  \n",
       "3  https://pubmed.ncbi.nlm.nih.gov/29471575/  \n",
       "4  https://pubmed.ncbi.nlm.nih.gov/27009935/  "
      ]
     },
     "execution_count": 1,
     "metadata": {},
     "output_type": "execute_result"
    }
   ],
   "source": [
    "import pandas as pd\n",
    "df=pd.read_csv('CosmoCloudHackathonDataset.csv')  \n",
    "df.head()"
   ]
  },
  {
   "cell_type": "code",
   "execution_count": 2,
   "metadata": {},
   "outputs": [
    {
     "name": "stderr",
     "output_type": "stream",
     "text": [
      "100%|██████████| 30/30 [00:00<00:00, 9027.13it/s]\n"
     ]
    },
    {
     "name": "stdout",
     "output_type": "stream",
     "text": [
      "Documents split into 30 chunks.\n"
     ]
    }
   ],
   "source": [
    "from document_loading import load_documents_from_df\n",
    "from document_processing_and_embedding import split_documents, make_document_embeddings\n",
    "\n",
    "documents = load_documents_from_df(df)\n",
    "documents = split_documents(documents)"
   ]
  },
  {
   "cell_type": "code",
   "execution_count": null,
   "metadata": {},
   "outputs": [],
   "source": [
    "!pip install chromadb "
   ]
  },
  {
   "cell_type": "markdown",
   "metadata": {},
   "source": [
    "creating chromadb as vector DB"
   ]
  },
  {
   "cell_type": "code",
   "execution_count": 13,
   "metadata": {},
   "outputs": [],
   "source": [
    "from langchain_community.vectorstores import Chroma\n",
    "from langchain_openai import OpenAIEmbeddings, ChatOpenAI \n",
    "embedding_model = OpenAIEmbeddings()\n",
    "    \n",
    "vectorstore = Chroma.from_documents(\n",
    "    documents=documents,\n",
    "    collection_name=\"rag-oncological\",\n",
    "    embedding=OpenAIEmbeddings(),\n",
    ")\n",
    "retriever = vectorstore.as_retriever()"
   ]
  },
  {
   "cell_type": "code",
   "execution_count": 10,
   "metadata": {},
   "outputs": [
    {
     "name": "stdout",
     "output_type": "stream",
     "text": [
      "4\n",
      "Inherited mutations in BRCA1 and BRCA2 lead to significantly increased risks of breast and ovarian cancer. We used epidemiologic methods to evaluate the relative risks of breast cancer vs. ovarian cancer among women of Ashkenazi Jewish ancestry with inherited mutations in BRCA1 or BRCA2. The cancer of a family's index case (i.e., breast cancer vs. ovarian cancer) was significantly associated with site-specific risks of cancer in relatives known to carry mutations in BRCA1 or BRCA2. Specifically, breast cancer risks were higher among relatives of breast cancer index cases compared with relatives of ovarian cancer index cases [hazard ratio (HR) = 3.0, P < 0.001 for BRCA1 carriers and HR = 4.8, P = 0.017 for BRCA2 carriers], and ovarian cancer risks were higher among relatives of ovarian cancer index cases compared with relatives of breast cancer index cases (HR = 7.2, P = 0.001 for BRCA1 carriers and HR = 15.8, P = 0.018 for BRCA2 carriers). Breast and ovarian cancer risks also increased with more recent year of birth. For each later decade of birth, risk increased 1.2-fold (P = 0.03). Effects of cancer site of the index case and of birth cohort were independent. These results suggest that both genetic and nongenetic factors modify cancer risks among BRCA1 and BRCA2 mutation carriers, and that genetic modifiers and other familial factors may influence risk specifically for either breast or ovarian cancer.\n"
     ]
    }
   ],
   "source": [
    "retrieved_docs = retriever.invoke(\"Mutation\")\n",
    "print(len(retrieved_docs))\n",
    "print(retrieved_docs[0].page_content)"
   ]
  },
  {
   "cell_type": "markdown",
   "metadata": {},
   "source": [
    "### For Now I pulled a default rag prompt. We have to refine it for our use case."
   ]
  },
  {
   "cell_type": "code",
   "execution_count": 7,
   "metadata": {},
   "outputs": [
    {
     "name": "stderr",
     "output_type": "stream",
     "text": [
      "c:\\Users\\utfu\\.virtualenvs\\OncoSearch-yB5ZPERY\\Lib\\site-packages\\langsmith\\client.py:354: LangSmithMissingAPIKeyWarning: API key must be provided when using hosted LangSmith API\n",
      "  warnings.warn(\n"
     ]
    }
   ],
   "source": [
    "from langchain import hub\n",
    "prompt = hub.pull(\"rlm/rag-prompt\")"
   ]
  },
  {
   "cell_type": "markdown",
   "metadata": {},
   "source": [
    "Creating LLM Chain"
   ]
  },
  {
   "cell_type": "code",
   "execution_count": 16,
   "metadata": {},
   "outputs": [
    {
     "data": {
      "text/plain": [
       "'Breast cancer treatment options include surgery, radiation therapy, chemotherapy, endocrine therapy, and targeted therapy, depending on the cancer stage and subtype. Early-stage cancers often receive breast-conserving surgery followed by radiation, while more advanced stages may require neoadjuvant chemotherapy to shrink tumors before surgery. For metastatic breast cancer, treatments focus on prolonging survival and maintaining quality of life through systemic therapies.'"
      ]
     },
     "execution_count": 16,
     "metadata": {},
     "output_type": "execute_result"
    }
   ],
   "source": [
    "from langchain_core.runnables import RunnablePassthrough\n",
    "from langchain_core.output_parsers import StrOutputParser\n",
    "\n",
    "\n",
    "\n",
    "llm = ChatOpenAI(model=\"gpt-4o-mini\")\n",
    "\n",
    "rag_chain = (\n",
    "    {\"context\": retriever, \"question\": RunnablePassthrough()}\n",
    "    | prompt\n",
    "    | llm\n",
    "    | StrOutputParser()\n",
    ")\n",
    "\n",
    "rag_chain.invoke(\"What are some ways to treat breast Cancer\")"
   ]
  }
 ],
 "metadata": {
  "kernelspec": {
   "display_name": "OncoSearch-yB5ZPERY",
   "language": "python",
   "name": "python3"
  },
  "language_info": {
   "codemirror_mode": {
    "name": "ipython",
    "version": 3
   },
   "file_extension": ".py",
   "mimetype": "text/x-python",
   "name": "python",
   "nbconvert_exporter": "python",
   "pygments_lexer": "ipython3",
   "version": "3.11.2"
  }
 },
 "nbformat": 4,
 "nbformat_minor": 2
}
